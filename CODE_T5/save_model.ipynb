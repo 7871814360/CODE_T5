{
 "cells": [
  {
   "cell_type": "code",
   "execution_count": 1,
   "metadata": {},
   "outputs": [
    {
     "name": "stderr",
     "output_type": "stream",
     "text": [
      "c:\\Users\\DELL\\anaconda3\\Lib\\site-packages\\transformers\\tokenization_utils_base.py:1601: FutureWarning: `clean_up_tokenization_spaces` was not set. It will be set to `True` by default. This behavior will be depracted in transformers v4.45, and will be then set to `False` by default. For more details check this issue: https://github.com/huggingface/transformers/issues/31884\n",
      "  warnings.warn(\n"
     ]
    },
    {
     "name": "stdout",
     "output_type": "stream",
     "text": [
      "Model saved to quantized_codet5_model.pt\n"
     ]
    }
   ],
   "source": [
    "import torch\n",
    "from transformers import AutoTokenizer, AutoModelForSeq2SeqLM\n",
    "\n",
    "# Load tokenizer and model\n",
    "tokenizer = AutoTokenizer.from_pretrained(\"Salesforce/codet5-large-ntp-py\")\n",
    "model = AutoModelForSeq2SeqLM.from_pretrained(\"Salesforce/codet5-large-ntp-py\")\n",
    "\n",
    "# Apply dynamic quantization to the model to reduce memory footprint\n",
    "quantized_model = torch.quantization.quantize_dynamic(\n",
    "    model, {torch.nn.Linear}, dtype=torch.qint8\n",
    ")\n",
    "\n",
    "# Save the quantized model locally\n",
    "model_save_path = \"quantized_codet5_model.pt\"\n",
    "torch.save(quantized_model.state_dict(), model_save_path)\n",
    "tokenizer.save_pretrained(\"./tokenizer\")\n",
    "\n",
    "print(f\"Model saved to {model_save_path}\")"
   ]
  },
  {
   "cell_type": "code",
   "execution_count": 1,
   "metadata": {},
   "outputs": [
    {
     "name": "stdout",
     "output_type": "stream",
     "text": [
      "Using device: cpu\n"
     ]
    },
    {
     "name": "stderr",
     "output_type": "stream",
     "text": [
      "c:\\Users\\DELL\\anaconda3\\Lib\\site-packages\\transformers\\tokenization_utils_base.py:1601: FutureWarning: `clean_up_tokenization_spaces` was not set. It will be set to `True` by default. This behavior will be depracted in transformers v4.45, and will be then set to `False` by default. For more details check this issue: https://github.com/huggingface/transformers/issues/31884\n",
      "  warnings.warn(\n"
     ]
    },
    {
     "name": "stdout",
     "output_type": "stream",
     "text": [
      "Generated Code:\n",
      " \n",
      "# input: a list of numbers\n",
      "\n",
      "# output: a sorted list\n",
      "\n",
      "def sort_list(list):\n",
      "    for i in range(len(list)):\n",
      "        list[i] = sorted(list[i])\n",
      "    return list\n",
      "\n",
      "list = [1,2,3,4,5,6,7,8,9]\n",
      "print(sort_list(list))\n",
      "\n"
     ]
    }
   ],
   "source": [
    "import torch\n",
    "from transformers import AutoTokenizer, AutoModelForSeq2SeqLM\n",
    "\n",
    "# Check if GPU (CUDA) is available\n",
    "device = torch.device(\"cuda\" if torch.cuda.is_available() else \"cpu\")\n",
    "print(f\"Using device: {device}\")\n",
    "\n",
    "# Load tokenizer and model\n",
    "tokenizer = AutoTokenizer.from_pretrained(\"Salesforce/codet5-large-ntp-py\")\n",
    "model = AutoModelForSeq2SeqLM.from_pretrained(\"Salesforce/codet5-large-ntp-py\")\n",
    "\n",
    "# Apply dynamic quantization (usually for CPU) but load it onto GPU if needed\n",
    "quantized_model = torch.quantization.quantize_dynamic(\n",
    "    model, {torch.nn.Linear}, dtype=torch.qint8\n",
    ").to(device)  # Move model to GPU\n",
    "\n",
    "# Define the programming prompt\n",
    "prompt = \"\"\"\n",
    "# python program to sort a list of numbers in ascending order\n",
    "\"\"\"\n",
    "\n",
    "# Tokenize the input prompt and move tensors to the appropriate device (CPU or GPU)\n",
    "inputs = tokenizer(prompt, return_tensors=\"pt\").to(device)\n",
    "\n",
    "# Generate the code\n",
    "generated_tokens = quantized_model.generate(**inputs, max_length=200)\n",
    "\n",
    "# Move the generated tokens back to CPU for decoding\n",
    "generated_code = tokenizer.decode(generated_tokens[0].cpu(), skip_special_tokens=True)\n",
    "\n",
    "# Print the generated code\n",
    "print(\"Generated Code:\\n\", generated_code)"
   ]
  }
 ],
 "metadata": {
  "kernelspec": {
   "display_name": "base",
   "language": "python",
   "name": "python3"
  },
  "language_info": {
   "codemirror_mode": {
    "name": "ipython",
    "version": 3
   },
   "file_extension": ".py",
   "mimetype": "text/x-python",
   "name": "python",
   "nbconvert_exporter": "python",
   "pygments_lexer": "ipython3",
   "version": "3.12.4"
  }
 },
 "nbformat": 4,
 "nbformat_minor": 2
}
