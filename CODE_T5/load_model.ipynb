{
 "cells": [
  {
   "cell_type": "code",
   "execution_count": null,
   "metadata": {},
   "outputs": [],
   "source": [
    "import torch\n",
    "from transformers import AutoTokenizer, AutoModelForSeq2SeqLM\n",
    "\n",
    "# Load the tokenizer\n",
    "tokenizer = AutoTokenizer.from_pretrained(\"./tokenizer\")\n",
    "\n",
    "# Load the original model structure\n",
    "model = AutoModelForSeq2SeqLM.from_pretrained(\"Salesforce/codet5-large-ntp-py\")\n",
    "\n",
    "# Load the quantized state dict into the model\n",
    "quantized_model = torch.quantization.quantize_dynamic(\n",
    "    model, {torch.nn.Linear}, dtype=torch.qint8\n",
    ")\n",
    "quantized_model.load_state_dict(torch.load(\"quantized_codet5_model.pt\"))\n",
    "\n",
    "# Verify the model was loaded\n",
    "print(\"Quantized model loaded successfully.\")"
   ]
  }
 ],
 "metadata": {
  "language_info": {
   "name": "python"
  }
 },
 "nbformat": 4,
 "nbformat_minor": 2
}
